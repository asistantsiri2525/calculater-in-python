{
 "cells": [
  {
   "cell_type": "markdown",
   "id": "a1c055c0-8f46-4793-9a0b-90cff57f2a61",
   "metadata": {},
   "source": [
    "## CALCULATER"
   ]
  },
  {
   "cell_type": "code",
   "execution_count": 5,
   "id": "25d0e57f-32b3-4535-9d90-e99998caf77e",
   "metadata": {},
   "outputs": [],
   "source": [
    "from tkinter import *\n",
    "window = Tk()\n",
    "\n",
    "def add_numbers():\n",
    "    try:\n",
    "        num1 = int(e2.get())\n",
    "        num2 = int(e3.get())\n",
    "        result = num1 + num2\n",
    "        e4.delete(0, END)\n",
    "        e4.insert(0, result)\n",
    "    except ValueError:\n",
    "        e4.delete(0, END)\n",
    "        e4.insert(0, \"Invalid input\")\n",
    "def sub_numbers():\n",
    "    try:\n",
    "        num1 = int(e2.get())\n",
    "        num2 = int(e3.get())\n",
    "        result = num1 - num2\n",
    "        e4.delete(0, END)\n",
    "        e4.insert(0, result)\n",
    "    except ValueError:\n",
    "        e4.delete(0, END)\n",
    "        e4.insert(0, \"Invalid input\")\n",
    "def multi_numbers():\n",
    "    try:\n",
    "        num1 = int(e2.get())\n",
    "        num2 = int(e3.get())\n",
    "        result = num1 * num2\n",
    "        e4.delete(0, END)\n",
    "        e4.insert(0, result)\n",
    "    except ValueError:\n",
    "        e4.delete(0, END)\n",
    "        e4.insert(0, \"Invalid input\")\n",
    "def divide_numbers():\n",
    "    try:\n",
    "        num1 = int(e2.get())\n",
    "        num2 = int(e3.get())\n",
    "        result = num1 / num2\n",
    "        e4.delete(0, END)\n",
    "        e4.insert(0, result)\n",
    "    except ValueError:\n",
    "        e4.delete(0, END)\n",
    "        e4.insert(0, \"Invalid input\")\n",
    "def mode_numbers():\n",
    "    try:\n",
    "        num1 = int(e2.get())\n",
    "        num2 = int(e3.get())\n",
    "        result = num1 % num2\n",
    "        e4.delete(0, END)\n",
    "        e4.insert(0, result)\n",
    "    except ValueError:\n",
    "        e4.delete(0, END)\n",
    "        e4.insert(0, \"Invalid input\")\n",
    "               \n",
    "                      \n",
    "       \n",
    "\n",
    "e1 = Label(window, text=\"CALCULATOR\")\n",
    "e1.grid(row=0, column=1)\n",
    "\n",
    "e2 = Entry(window)\n",
    "e2.grid(row=1, column=0)\n",
    "\n",
    "e3 = Entry(window)\n",
    "e3.grid(row=1, column=2)\n",
    "\n",
    "e4 = Entry(window)\n",
    "e4.grid(row=3, column=1)\n",
    "\n",
    "b1 = Button(window, height=2, width=6, text=\"C\")\n",
    "b1.grid(row=4, column=0)\n",
    "\n",
    "b2 = Button(window, height=2, width=6, text=\"+\", command=add_numbers)\n",
    "b2.grid(row=4, column=1)\n",
    "\n",
    "b3 = Button(window, height=2, width=6, text=\"-\",command=sub_numbers)\n",
    "b3.grid(row=4, column=2)\n",
    "\n",
    "b4 = Button(window, height=2, width=6, text=\"*\",command=multi_numbers)\n",
    "b4.grid(row=5, column=0)\n",
    "b5= Button(window, height=2, width=6, text=\"/\",command=divide_numbers)\n",
    "b5.grid(row=4, column=4)\n",
    "\n",
    "b6 = Button(window, height=2, width=6, text=\"%\",command=mode_numbers)\n",
    "b6.grid(row=5, column=1)\n",
    "\n",
    "b7 = Button(window, height=2, width=6, text=\"=\")\n",
    "b7.grid(row=5, column=2)\n",
    "\n",
    "window.mainloop()\n"
   ]
  },
  {
   "cell_type": "code",
   "execution_count": 9,
   "id": "61a70e68-c9da-4994-a452-822e4c953a69",
   "metadata": {},
   "outputs": [
    {
     "data": {
      "text/plain": [
       "'C:\\\\Users\\\\moret'"
      ]
     },
     "execution_count": 9,
     "metadata": {},
     "output_type": "execute_result"
    }
   ],
   "source": [
    "pwd"
   ]
  },
  {
   "cell_type": "code",
   "execution_count": null,
   "id": "d374e36f-a047-4f01-907f-46c13cc062b1",
   "metadata": {},
   "outputs": [],
   "source": []
  },
  {
   "cell_type": "code",
   "execution_count": null,
   "id": "59641182-1cc5-42ea-9c83-4a6a5d1d1685",
   "metadata": {},
   "outputs": [],
   "source": []
  }
 ],
 "metadata": {
  "kernelspec": {
   "display_name": "Python 3 (ipykernel)",
   "language": "python",
   "name": "python3"
  },
  "language_info": {
   "codemirror_mode": {
    "name": "ipython",
    "version": 3
   },
   "file_extension": ".py",
   "mimetype": "text/x-python",
   "name": "python",
   "nbconvert_exporter": "python",
   "pygments_lexer": "ipython3",
   "version": "3.12.4"
  }
 },
 "nbformat": 4,
 "nbformat_minor": 5
}
